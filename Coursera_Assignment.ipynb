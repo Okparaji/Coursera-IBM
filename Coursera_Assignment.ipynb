{
 "cells": [
  {
   "cell_type": "markdown",
   "id": "f7af1a36-545b-45e7-8795-2e0b4c88005c",
   "metadata": {},
   "source": [
    "#  My Jupyter Notebook on IBM Watson Studio"
   ]
  },
  {
   "cell_type": "markdown",
   "id": "f1ae50b6-86bb-445c-91ef-f8b9e5190f65",
   "metadata": {},
   "source": [
    "**Stanley Okparaji**\n",
    "\n",
    "Data Scientist"
   ]
  },
  {
   "cell_type": "markdown",
   "id": "1b213e51-8ec9-412b-be02-126da76c662d",
   "metadata": {},
   "source": [
    " _I am interest in data science because as a mathematician I can apply so many of the knowledge I have in mathematics to analysing datas, and also as it is a field that requires continues learning I enjoy that_"
   ]
  },
  {
   "cell_type": "markdown",
   "id": "9f0c167b-81e7-498e-a1fc-8c65bd3acc5b",
   "metadata": {},
   "source": [
    "### Python program to display all the prime numbers within an interval"
   ]
  },
  {
   "cell_type": "code",
   "execution_count": 5,
   "id": "408b8971-ec7e-48ba-839a-13a8d4742e03",
   "metadata": {},
   "outputs": [
    {
     "name": "stdout",
     "output_type": "stream",
     "text": [
      "Prime numbers between 50 and 200 are:\n",
      "53\n",
      "59\n",
      "61\n",
      "67\n",
      "71\n",
      "73\n",
      "79\n",
      "83\n",
      "89\n",
      "97\n",
      "101\n",
      "103\n",
      "107\n",
      "109\n",
      "113\n",
      "127\n",
      "131\n",
      "137\n",
      "139\n",
      "149\n",
      "151\n",
      "157\n",
      "163\n",
      "167\n",
      "173\n",
      "179\n",
      "181\n",
      "191\n",
      "193\n",
      "197\n",
      "199\n"
     ]
    }
   ],
   "source": [
    "lower = 50\n",
    "upper = 200\n",
    "\n",
    "print(\"Prime numbers between\", lower, \"and\", upper, \"are:\")\n",
    "\n",
    "for num in range(lower, upper + 1):\n",
    "   # all prime numbers are greater than 1\n",
    "   if num > 1:\n",
    "       for i in range(2, num):\n",
    "           if (num % i) == 0:\n",
    "               break\n",
    "       else:\n",
    "           print(num)"
   ]
  },
  {
   "cell_type": "markdown",
   "id": "e3be6a54-d3b1-41fa-b873-7ab04c4be629",
   "metadata": {},
   "source": [
    "- apple\n",
    "- bean\n",
    "- cake\n",
    "- bread\n",
    "- meat\n",
    "- chicken\n",
    "****\n",
    "\n",
    "s/n| Name | Age\n",
    "--- | --- | ---\n",
    "1| **John** | 20\n",
    "2| **Favour** | 25\n",
    "3| **Stanley** | 27\n",
    "****\n",
    "\n",
    "[Twitter page](https://twitter.com )\n"
   ]
  },
  {
   "cell_type": "code",
   "execution_count": null,
   "id": "a183adaf-1b12-4c9f-ae52-d4dc68cc6aba",
   "metadata": {},
   "outputs": [],
   "source": []
  }
 ],
 "metadata": {
  "kernelspec": {
   "display_name": "Python",
   "language": "python",
   "name": "conda-env-python-py"
  },
  "language_info": {
   "codemirror_mode": {
    "name": "ipython",
    "version": 3
   },
   "file_extension": ".py",
   "mimetype": "text/x-python",
   "name": "python",
   "nbconvert_exporter": "python",
   "pygments_lexer": "ipython3",
   "version": "3.7.12"
  },
  "toc-autonumbering": true,
  "toc-showtags": false
 },
 "nbformat": 4,
 "nbformat_minor": 5
}
